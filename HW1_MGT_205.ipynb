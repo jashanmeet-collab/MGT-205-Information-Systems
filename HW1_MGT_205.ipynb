{
  "nbformat": 4,
  "nbformat_minor": 0,
  "metadata": {
    "colab": {
      "name": "HW1 MGT 205.ipynb",
      "provenance": []
    },
    "kernelspec": {
      "name": "python3",
      "display_name": "Python 3"
    },
    "language_info": {
      "name": "python"
    }
  },
  "cells": [
    {
      "cell_type": "markdown",
      "source": [
        "Using knowledge of Python… Determine which number is the smallest. Print that number along with descriptive text to inform the user of what is being printed on the screen. Determine how many numbers are equal. Print that number (zero, two, or three) along with some descriptive text to inform the user of what is being printed to the screen.\n"
      ],
      "metadata": {
        "id": "o3PmW08VoWrX"
      }
    },
    {
      "cell_type": "code",
      "execution_count": null,
      "metadata": {
        "id": "ZX4bAJBioADH"
      },
      "outputs": [],
      "source": [
        "a=int(input(\"Enter 1st number: \"))\n",
        "b=int(input(\"Enter 2nd number: \"))\n",
        "c=int(input(\"Enter 3rd number: \"))\n",
        "if a<b<c:\n",
        "    smallest=a\n",
        "elif b<c:\n",
        "    smallest=b\n",
        "else:\n",
        "    smallest=c\n",
        "\n",
        "print(\"The smallest number is:\",smallest)\n",
        "if a==b and b==c:\n",
        "    print(\"There are three equal numbers\")\n",
        "if (a==b and b!=c) or (a==c and a!=b):\n",
        "    print(\"There are two equal numbers\")\n",
        "if (a!=b and b!=c) and (a!=c):\n",
        "    print(\"There are zero equal numbers\")\n"
      ]
    }
  ]
}