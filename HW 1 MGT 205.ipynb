{
 "cells": [
  {
   "cell_type": "markdown",
   "id": "65bb5858",
   "metadata": {},
   "source": [
    "# HW1 MGT 205\n",
    "Using knowledge of Python…\n",
    "Determine which number is the smallest. Print that number along with descriptive text to inform the user of what is being printed on the screen.\n",
    "Determine how many numbers are equal. Print that number (zero, two, or three) along with some descriptive text to inform the user of what is being printed to the screen."
   ]
  },
  {
   "cell_type": "code",
   "execution_count": 1,
   "id": "ff2b66c1",
   "metadata": {},
   "outputs": [
    {
     "name": "stdout",
     "output_type": "stream",
     "text": [
      "Enter your 1st integer: -20\n",
      "Enter your 2nd integer: -20\n",
      "Enter your 3rd integer: -20\n",
      "Smallest number is -20\n",
      "Three equal numbers\n"
     ]
    }
   ],
   "source": [
    "a=int(input(\"Enter your 1st integer: \"))\n",
    "b=int(input(\"Enter your 2nd integer: \"))\n",
    "c=int(input(\"Enter your 3rd integer: \"))\n",
    "if a<b<c:\n",
    "    smallest=a\n",
    "elif b<c:\n",
    "    smallest=b\n",
    "else:\n",
    "    smallest=c\n",
    "\n",
    "print(\"Smallest number is\",smallest)\n",
    "if a==b and b==c:\n",
    "    print(\"Three equal numbers\")\n",
    "if (a==b and b!=c) or (a==c and a!=b):\n",
    "    print(\"Two equal numbers\")\n",
    "if (a!=b and b!=c) and (a!=c):\n",
    "    print(\"Zero equal numbers\")\n"
   ]
  },
  {
   "cell_type": "code",
   "execution_count": null,
   "id": "d7b82cb7",
   "metadata": {},
   "outputs": [],
   "source": []
  }
 ],
 "metadata": {
  "kernelspec": {
   "display_name": "Python 3 (ipykernel)",
   "language": "python",
   "name": "python3"
  },
  "language_info": {
   "codemirror_mode": {
    "name": "ipython",
    "version": 3
   },
   "file_extension": ".py",
   "mimetype": "text/x-python",
   "name": "python",
   "nbconvert_exporter": "python",
   "pygments_lexer": "ipython3",
   "version": "3.8.10"
  }
 },
 "nbformat": 4,
 "nbformat_minor": 5
}
